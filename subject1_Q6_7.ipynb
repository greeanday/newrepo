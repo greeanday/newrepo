{
  "nbformat": 4,
  "nbformat_minor": 0,
  "metadata": {
    "colab": {
      "provenance": [],
      "authorship_tag": "ABX9TyNmIb2N0OZm5Wt/zqYRHUK4",
      "include_colab_link": true
    },
    "kernelspec": {
      "name": "python3",
      "display_name": "Python 3"
    },
    "language_info": {
      "name": "python"
    }
  },
  "cells": [
    {
      "cell_type": "markdown",
      "metadata": {
        "id": "view-in-github",
        "colab_type": "text"
      },
      "source": [
        "<a href=\"https://colab.research.google.com/github/greeanday/newrepo/blob/master/subject1_Q6_7.ipynb\" target=\"_parent\"><img src=\"https://colab.research.google.com/assets/colab-badge.svg\" alt=\"Open In Colab\"/></a>"
      ]
    },
    {
      "cell_type": "markdown",
      "source": [
        "# **Q6**\n",
        "From each window, extract energy, Shannon entropy, maximum (amplitude and\n",
        "location), minimum (amplitude and location). Store these as a separate matrix\n",
        "where rows correspond to windows and columns correspond to features (there\n",
        "will be 6 features)."
      ],
      "metadata": {
        "id": "sSu21a7jd9Vu"
      }
    },
    {
      "cell_type": "code",
      "source": [
        "import pandas as pd\n",
        "import numpy as np\n",
        "import matplotlib.pyplot as plt\n",
        "\n",
        "dataFrame=pd.read_csv(\"subject101.dat\",sep=\" \",header=None)\n",
        "\n",
        "dataFrame.shape[1]\n",
        "\n",
        "dataFrame.columns=[\"timestamp\",\"activityID\",\"heart_rate\"]+[f'col_{i}' for i in range(4,55)]\n",
        "\n",
        "dataFrame[\"col_40\"]=pd.to_numeric(dataFrame[\"col_40\"], errors=\"coerce\")\n",
        "dataFrame[\"col_41\"]=pd.to_numeric(dataFrame[\"col_41\"], errors=\"coerce\")\n",
        "dataFrame[\"col_42\"]=pd.to_numeric(dataFrame[\"col_42\"], errors=\"coerce\")\n",
        "\n",
        "walking=dataFrame[dataFrame[\"activityID\"]==4]\n",
        "xyz = walking[[\"timestamp\",\"col_40\", \"col_41\", \"col_42\"]].dropna()\n",
        "\n",
        "magnitude = np.sqrt(xyz[\"col_40\"]**2 + xyz[\"col_41\"]**2 + xyz[\"col_42\"]**2)\n",
        "\n",
        "\n",
        "rows = []\n",
        "sampling_rate = 100  # Hz\n",
        "segment_length = 4 * sampling_rate  # 4 saniye = 400 örnek\n",
        "\n",
        "for i in range(0, len(magnitude), segment_length):\n",
        "    segment = magnitude.iloc[i:i+segment_length].values  # .iloc kullandık\n",
        "    if len(segment) < segment_length:\n",
        "        segment = np.pad(segment, (0, segment_length - len(segment)), constant_values=np.nan)\n",
        "    rows.append(segment)\n",
        "\n",
        "matrix_4sec_segments = np.array(rows)\n",
        "\n"
      ],
      "metadata": {
        "id": "kuAja8LvvGcn"
      },
      "execution_count": null,
      "outputs": []
    },
    {
      "cell_type": "code",
      "source": [
        "import numpy as np\n",
        "from scipy.stats import entropy\n",
        "\n",
        "# Özellikleri saklayacağımız liste\n",
        "features = []\n",
        "\n",
        "# Her pencere için özellikleri hesapla\n",
        "for segment in matrix_4sec_segments:\n",
        "    # NaN'leri filtrele\n",
        "    segment = segment[~np.isnan(segment)]\n",
        "\n",
        "    # Enerji: karelerin toplamı\n",
        "    energy = np.sum(segment**2)\n",
        "\n",
        "    # Shannon Entropy\n",
        "    # Frekansları say (benzersiz değerleri bularak)\n",
        "    values, counts = np.unique(segment, return_counts=True)\n",
        "    probabilities = counts / counts.sum()\n",
        "    shannon_entropy = entropy(probabilities, base=2)\n",
        "\n",
        "    # Maksimum ve konumu\n",
        "    max_val = np.max(segment)\n",
        "    max_idx = np.argmax(segment)\n",
        "\n",
        "    # Minimum ve konumu\n",
        "    min_val = np.min(segment)\n",
        "    min_idx = np.argmin(segment)\n",
        "\n",
        "    # Özellikleri birleştir ve ekle\n",
        "    features.append([energy, shannon_entropy, max_val, max_idx, min_val, min_idx])\n",
        "\n",
        "# Özellik matrisi olarak numpy array'e çevir\n",
        "feature_matrix = np.array(features)\n",
        "\n",
        "# Dilersen bir DataFrame'e de çevirebilirsin:\n",
        "import pandas as pd\n",
        "columns = ['Energy', 'ShannonEntropy', 'MaxValue', 'MaxIndex', 'MinValue', 'MinIndex']\n",
        "feature_df = pd.DataFrame(feature_matrix, columns=columns)"
      ],
      "metadata": {
        "id": "8HVHMwKcvVlg"
      },
      "execution_count": null,
      "outputs": []
    },
    {
      "cell_type": "code",
      "source": [
        "print(feature_df)"
      ],
      "metadata": {
        "colab": {
          "base_uri": "https://localhost:8080/"
        },
        "collapsed": true,
        "id": "VW2RHPhEwZHX",
        "outputId": "76e50180-878a-46b1-e01d-3eb0148f86c2"
      },
      "execution_count": null,
      "outputs": [
        {
          "output_type": "stream",
          "name": "stdout",
          "text": [
            "           Energy  ShannonEntropy    MaxValue  MaxIndex  MinValue  MinIndex\n",
            "0    38825.397754        8.643856    9.973791     189.0  9.677275     375.0\n",
            "1    70680.515963        8.643856   91.371940     338.0  3.668466     301.0\n",
            "2   136371.515093        8.643856   88.221441      57.0  3.337948     184.0\n",
            "3   161342.521612        8.643856  109.446975     128.0  3.757926      94.0\n",
            "4   156749.685519        8.643856  137.828835     192.0  3.798703     160.0\n",
            "5   165124.626119        8.643856  111.950211     376.0  3.710919      37.0\n",
            "6   141759.061064        8.643856   87.789681     321.0  3.720366      56.0\n",
            "7   163157.154537        8.643856   97.326597     378.0  3.604315       4.0\n",
            "8   160387.086520        8.643856  145.152143     206.0  3.819535      58.0\n",
            "9   176882.785109        8.643856  123.000840      36.0  3.879249       3.0\n",
            "10  134680.495691        8.643856  108.419613     334.0  4.001636     178.0\n",
            "11  167311.872256        8.643856  141.715731      56.0  3.605557     372.0\n",
            "12  140810.442116        8.643856  113.097531     361.0  3.411775     209.0\n",
            "13  142939.060655        8.643856   99.815162      80.0  3.240017     164.0\n",
            "14  164263.948438        8.643856  112.403846     272.0  3.758749     357.0\n",
            "15  138650.946371        8.643856  107.152358     340.0  3.440523     302.0\n",
            "16  156606.916211        8.643856  140.890852      59.0  3.657789     257.0\n",
            "17  166710.288316        8.643856  134.638692      14.0  3.273234     213.0\n",
            "18  143359.097040        8.643856  114.002777     327.0  3.826983     290.0\n",
            "19  126861.261038        8.643856   99.984722     289.0  3.722874     251.0\n",
            "20  156047.999781        8.643856  120.149749       9.0  3.123344     214.0\n",
            "21  124761.100959        8.643856   94.780004     211.0  3.875759     296.0\n",
            "22  129141.091096        8.643856   91.995103     171.0  3.576808      12.0\n",
            "23  156754.756926        8.643856  110.478330     130.0  4.015809      92.0\n",
            "24  148352.205119        8.643856  111.181839     317.0  3.640963     325.0\n",
            "25  163462.926118        8.643856  131.192964     156.0  3.949095     362.0\n",
            "26  134631.567428        8.643856  104.449192     231.0  3.997824     198.0\n",
            "27  132211.799081        8.643856   88.176063      68.0  4.116353      30.0\n",
            "28  165581.022462        8.643856  121.570604     372.0  3.668345     106.0\n",
            "29  160145.301369        8.643856  141.959139     323.0  3.919204     285.0\n",
            "30  168449.336366        8.643856  132.134396     274.0  3.989218       2.0\n",
            "31  132270.654409        8.643856  105.278841     110.0  3.146905       0.0\n",
            "32  152170.550765        8.643856  112.905341     289.0  4.224292      24.0\n",
            "33  170938.632333        8.643856  127.555933       6.0  3.764935     205.0\n",
            "34  129435.599865        8.643856  103.411042      78.0  3.781623     278.0\n",
            "35  158975.796433        8.643856   97.219314     390.0  3.074988     353.0\n",
            "36  125441.032652        8.643856  100.624592     233.0  3.493695     192.0\n",
            "37  133129.767526        8.643856   93.070455     325.0  2.944500     163.0\n",
            "38  116367.720289        8.643856   79.037891     288.0  3.407816     378.0\n",
            "39  153408.417291        8.643856  129.630403     134.0  3.412550      95.0\n",
            "40  125423.513014        8.643856  108.564229     333.0  2.699544     300.0\n",
            "41  141243.545496        8.643856  118.440726     174.0  3.742840     262.0\n",
            "42  190262.023760        8.643856  156.445537     360.0  3.927353     253.0\n",
            "43  147235.459478        8.643856  110.070370     299.0  4.013994     377.0\n",
            "44  183778.168780        8.643856  134.455418     245.0  3.256236     323.0\n",
            "45  136976.317030        8.643856   99.647273     193.0  4.028356     158.0\n",
            "46  154639.733225        8.643856   97.587734      30.0  2.007876      38.0\n",
            "47  141251.761840        8.643856  125.379761     101.0  3.794066     181.0\n",
            "48  135745.316568        8.643856   91.636276      53.0  3.907142      21.0\n",
            "49  149593.356184        8.643856  112.701666     243.0  4.187254     322.0\n",
            "50  142551.123413        8.643856  118.668483     315.0  3.663022     394.0\n",
            "51  162704.283108        8.643856  127.496998     387.0  4.260318     112.0\n",
            "52  129159.425733        8.643856  100.134584     345.0  3.616333     312.0\n",
            "53   55069.706078        8.643856   48.952997      67.0  3.283054      31.0\n",
            "54   39000.176356        8.643856   10.054956     240.0  9.714462     257.0\n",
            "55   17995.925668        7.531381    9.930806      42.0  9.788558     160.0\n"
          ]
        }
      ]
    },
    {
      "cell_type": "markdown",
      "source": [
        "SHANNON ENTROPİSİNİ HESAPLARKEN .unique ile her bir valueden kaç tane olduğunu sayıp sonra toplam count sayısına bölüp probabilityleri entropi denklemine dahil ettik evet. ama float sayıs olduğu için ve bu yüzden ufak farklarda bile farklı sayıldığı için entropi olduğundan fazla olarak yüksek görünmüş olabilir. Bu. yüzeen histogram ile bin'lere ayırarak ilerliyeceğiz. Binleri de herbir segment (time window)için ayrı ayrı Freedman-Diaconis Kuralı ile hesaplayıp o şekilde oluşturacağız.\n",
        "\n",
        "\"probabilities = counts / counts.sum() = [1/400, 1/400, ..., 1/400]\n",
        "log 2(400)≈8.64 bit\n",
        "Entropi yaklaşık 8.64 bit olur.\n",
        "Bu, Shannon entropisinin o segmentteki maksimum belirsizlik durumudur.\" yani aslında her bir değer farklıymış ki entropi hepsinde 8.64 çıktı yukarda kontrol ettiğimde."
      ],
      "metadata": {
        "id": "UX2w8rkYKvBH"
      }
    },
    {
      "cell_type": "code",
      "source": [
        "import numpy as np\n",
        "from scipy.stats import entropy, iqr\n",
        "\n",
        "# Özellikleri saklayacağımız liste\n",
        "features = []\n",
        "\n",
        "# Her pencere için özellikleri hesapla\n",
        "for segment in matrix_4sec_segments:\n",
        "    # NaN'leri filtrele\n",
        "    segment = segment[~np.isnan(segment)]\n",
        "\n",
        "    # Enerji: karelerin toplamı\n",
        "    energy = np.sum(segment**2)\n",
        "\n",
        "    # Shannon Entropy\n",
        "    # Frekansları say (Freedman-Diaconis bin sayısı bularak)\n",
        "    segment_iqr=iqr(segment)\n",
        "    bin_width=segment_iqr/(len(segment)**(1/3))\n",
        "\n",
        "    #bin sayısı hesqaplayalım\n",
        "    bin_count=int(np.ceil((segment.max()-segment.min()) / bin_width))\n",
        "\n",
        "    #histogram hesaplayalım\n",
        "    counts, _ =np.histogram(segment,bins=bin_count, density=True)\n",
        "\n",
        "    #olasılıklar ve entropi hesaplayalım\n",
        "\n",
        "    probabilities=counts/np.sum(counts)\n",
        "    shannon_entropy=entropy(probabilities, base=2)\n",
        "\n",
        "\n",
        "\n",
        "    # Maksimum ve konumu\n",
        "    max_val = np.max(segment)\n",
        "    max_idx = np.argmax(segment)\n",
        "\n",
        "    # Minimum ve konumu\n",
        "    min_val = np.min(segment)\n",
        "    min_idx = np.argmin(segment)\n",
        "\n",
        "    # Özellikleri birleştir ve ekle\n",
        "    features.append([energy, shannon_entropy, max_val, max_idx, min_val, min_idx])\n",
        "\n",
        "# Özellik matrisi olarak numpy array'e çevir\n",
        "feature_matrix = np.array(features)\n",
        "\n",
        "# Dilersen bir DataFrame'e de çevirebilirsin:\n",
        "import pandas as pd\n",
        "columns = ['Energy', 'ShannonEntropy', 'MaxValue', 'MaxIndex', 'MinValue', 'MinIndex']\n",
        "feature_df = pd.DataFrame(feature_matrix, columns=columns)"
      ],
      "metadata": {
        "id": "lB-nRcE_NEHV"
      },
      "execution_count": null,
      "outputs": []
    },
    {
      "cell_type": "code",
      "source": [
        "print(counts)\n",
        "print(bin_count)\n",
        "print(probabilities)\n",
        "print(feature_df)"
      ],
      "metadata": {
        "colab": {
          "base_uri": "https://localhost:8080/"
        },
        "collapsed": true,
        "id": "T6IbGYRUQDaz",
        "outputId": "57193ca2-45f1-4f06-c64f-ddb77e01ae45"
      },
      "execution_count": null,
      "outputs": [
        {
          "output_type": "stream",
          "name": "stdout",
          "text": [
            "[ 0.83599295  0.          2.50797885  1.6719859   5.85195065  5.85195065\n",
            " 10.86790835  5.85195065  6.6879436  15.88386605 12.53989425 20.89982375\n",
            " 10.0319154  11.7039013  13.3758872   8.3599295   5.0159577   1.6719859\n",
            "  4.17996475  7.52393655  1.6719859   1.6719859 ]\n",
            "22\n",
            "[0.00540541 0.         0.01621622 0.01081081 0.03783784 0.03783784\n",
            " 0.07027027 0.03783784 0.04324324 0.1027027  0.08108108 0.13513514\n",
            " 0.06486486 0.07567568 0.08648649 0.05405405 0.03243243 0.01081081\n",
            " 0.02702703 0.04864865 0.01081081 0.01081081]\n",
            "           Energy  ShannonEntropy    MaxValue  MaxIndex  MinValue  MinIndex\n",
            "0    38825.397754        4.576796    9.973791     189.0  9.677275     375.0\n",
            "1    70680.515963        4.536572   91.371940     338.0  3.668466     301.0\n",
            "2   136371.515093        4.122369   88.221441      57.0  3.337948     184.0\n",
            "3   161342.521612        3.989211  109.446975     128.0  3.757926      94.0\n",
            "4   156749.685519        4.074197  137.828835     192.0  3.798703     160.0\n",
            "5   165124.626119        4.055019  111.950211     376.0  3.710919      37.0\n",
            "6   141759.061064        4.029447   87.789681     321.0  3.720366      56.0\n",
            "7   163157.154537        4.036215   97.326597     378.0  3.604315       4.0\n",
            "8   160387.086520        4.019754  145.152143     206.0  3.819535      58.0\n",
            "9   176882.785109        3.912868  123.000840      36.0  3.879249       3.0\n",
            "10  134680.495691        4.021767  108.419613     334.0  4.001636     178.0\n",
            "11  167311.872256        4.064576  141.715731      56.0  3.605557     372.0\n",
            "12  140810.442116        4.072077  113.097531     361.0  3.411775     209.0\n",
            "13  142939.060655        4.181300   99.815162      80.0  3.240017     164.0\n",
            "14  164263.948438        4.104557  112.403846     272.0  3.758749     357.0\n",
            "15  138650.946371        4.144336  107.152358     340.0  3.440523     302.0\n",
            "16  156606.916211        4.151856  140.890852      59.0  3.657789     257.0\n",
            "17  166710.288316        4.051857  134.638692      14.0  3.273234     213.0\n",
            "18  143359.097040        3.927078  114.002777     327.0  3.826983     290.0\n",
            "19  126861.261038        4.178213   99.984722     289.0  3.722874     251.0\n",
            "20  156047.999781        4.085682  120.149749       9.0  3.123344     214.0\n",
            "21  124761.100959        4.205974   94.780004     211.0  3.875759     296.0\n",
            "22  129141.091096        4.152151   91.995103     171.0  3.576808      12.0\n",
            "23  156754.756926        4.060011  110.478330     130.0  4.015809      92.0\n",
            "24  148352.205119        4.081817  111.181839     317.0  3.640963     325.0\n",
            "25  163462.926118        4.127385  131.192964     156.0  3.949095     362.0\n",
            "26  134631.567428        4.151295  104.449192     231.0  3.997824     198.0\n",
            "27  132211.799081        4.106793   88.176063      68.0  4.116353      30.0\n",
            "28  165581.022462        4.110272  121.570604     372.0  3.668345     106.0\n",
            "29  160145.301369        4.019550  141.959139     323.0  3.919204     285.0\n",
            "30  168449.336366        4.100531  132.134396     274.0  3.989218       2.0\n",
            "31  132270.654409        4.159520  105.278841     110.0  3.146905       0.0\n",
            "32  152170.550765        4.090067  112.905341     289.0  4.224292      24.0\n",
            "33  170938.632333        4.081553  127.555933       6.0  3.764935     205.0\n",
            "34  129435.599865        4.048221  103.411042      78.0  3.781623     278.0\n",
            "35  158975.796433        4.143735   97.219314     390.0  3.074988     353.0\n",
            "36  125441.032652        4.146951  100.624592     233.0  3.493695     192.0\n",
            "37  133129.767526        4.159160   93.070455     325.0  2.944500     163.0\n",
            "38  116367.720289        4.172390   79.037891     288.0  3.407816     378.0\n",
            "39  153408.417291        4.210855  129.630403     134.0  3.412550      95.0\n",
            "40  125423.513014        4.188069  108.564229     333.0  2.699544     300.0\n",
            "41  141243.545496        4.067390  118.440726     174.0  3.742840     262.0\n",
            "42  190262.023760        3.999102  156.445537     360.0  3.927353     253.0\n",
            "43  147235.459478        4.150561  110.070370     299.0  4.013994     377.0\n",
            "44  183778.168780        3.950077  134.455418     245.0  3.256236     323.0\n",
            "45  136976.317030        4.162571   99.647273     193.0  4.028356     158.0\n",
            "46  154639.733225        4.171077   97.587734      30.0  2.007876      38.0\n",
            "47  141251.761840        4.088028  125.379761     101.0  3.794066     181.0\n",
            "48  135745.316568        4.057068   91.636276      53.0  3.907142      21.0\n",
            "49  149593.356184        4.037084  112.701666     243.0  4.187254     322.0\n",
            "50  142551.123413        4.107266  118.668483     315.0  3.663022     394.0\n",
            "51  162704.283108        4.000838  127.496998     387.0  4.260318     112.0\n",
            "52  129159.425733        4.204313  100.134584     345.0  3.616333     312.0\n",
            "53   55069.706078        4.964431   48.952997      67.0  3.283054      31.0\n",
            "54   39000.176356        4.683904   10.054956     240.0  9.714462     257.0\n",
            "55   17995.925668        4.026430    9.930806      42.0  9.788558     160.0\n"
          ]
        }
      ]
    },
    {
      "cell_type": "markdown",
      "source": [
        "# count sayımı olasılık yoğunluk fonksiyonu (PDF) üzerinden mi yapılmalı yoksa normal (density=False diyip) tam sayılı count üzerinden mi olmalı??\n",
        "\n",
        "not: (density=True) diyince PDF, (density=False) diyince tam sayılı normal o aralıkta kaç veri olduğunu gösteren şekilde count veriyor."
      ],
      "metadata": {
        "id": "JYdEBrNATNHn"
      }
    },
    {
      "cell_type": "markdown",
      "source": [
        "# Şimdi de density=False diyeceğim ve bin_width aralığındaki veri miktarını bularak count sayısı tam sayı olunca entropy değişimi var mı vs diye bakacağıım. ***Ve Beren hocaya hangi  şekilde ilerlemem gerektiğini sormayı unutma***"
      ],
      "metadata": {
        "id": "O3pt4KXgUbTe"
      }
    },
    {
      "cell_type": "code",
      "source": [
        "import numpy as np\n",
        "from scipy.stats import entropy, iqr\n",
        "\n",
        "# Özellikleri saklayacağımız liste\n",
        "features = []\n",
        "\n",
        "# Her pencere için özellikleri hesapla\n",
        "for segment in matrix_4sec_segments:\n",
        "    # NaN'leri filtrele\n",
        "    segment = segment[~np.isnan(segment)]\n",
        "\n",
        "    # Enerji: karelerin toplamı\n",
        "    energy = np.sum(segment**2)\n",
        "\n",
        "    # Shannon Entropy\n",
        "    # Frekansları say (Freedman-Diaconis bin sayısı bularak)\n",
        "    segment_iqr=iqr(segment)\n",
        "    bin_width=segment_iqr/(len(segment)**(1/3))\n",
        "\n",
        "    #bin sayısı hesqaplayalım\n",
        "    bin_count=int(np.ceil((segment.max()-segment.min()) / bin_width))\n",
        "\n",
        "    #histogram hesaplayalım\n",
        "    counts, _ =np.histogram(segment,bins=bin_count, density=False)\n",
        "\n",
        "    #olasılıklar ve entropi hesaplayalım\n",
        "\n",
        "    probabilities=counts/np.sum(counts)\n",
        "    shannon_entropy=entropy(probabilities, base=2)\n",
        "\n",
        "\n",
        "\n",
        "    # Maksimum ve konumu\n",
        "    max_val = np.max(segment)\n",
        "    max_idx = np.argmax(segment)\n",
        "\n",
        "    # Minimum ve konumu\n",
        "    min_val = np.min(segment)\n",
        "    min_idx = np.argmin(segment)\n",
        "\n",
        "    # Özellikleri birleştir ve ekle\n",
        "    features.append([energy, shannon_entropy, max_val, max_idx, min_val, min_idx])\n",
        "\n",
        "# Özellik matrisi olarak numpy array'e çevir\n",
        "feature_matrix = np.array(features)\n",
        "\n",
        "# Dilersen bir DataFrame'e de çevirebilirsin:\n",
        "import pandas as pd\n",
        "columns = ['Energy', 'ShannonEntropy', 'MaxValue', 'MaxIndex', 'MinValue', 'MinIndex']\n",
        "feature_df_density_false = pd.DataFrame(feature_matrix, columns=columns)"
      ],
      "metadata": {
        "id": "qbBF3vtCU5Xb"
      },
      "execution_count": null,
      "outputs": []
    },
    {
      "cell_type": "code",
      "source": [
        "print(counts)\n",
        "print(bin_count)\n",
        "print(probabilities)\n",
        "print(feature_df_density_false)"
      ],
      "metadata": {
        "colab": {
          "base_uri": "https://localhost:8080/"
        },
        "collapsed": true,
        "id": "E4DTcJFpUavS",
        "outputId": "b7804511-6fc8-4e90-93bf-cdb3e9c34169"
      },
      "execution_count": null,
      "outputs": [
        {
          "output_type": "stream",
          "name": "stdout",
          "text": [
            "[ 1  0  3  2  7  7 13  7  8 19 15 25 12 14 16 10  6  2  5  9  2  2]\n",
            "22\n",
            "[0.00540541 0.         0.01621622 0.01081081 0.03783784 0.03783784\n",
            " 0.07027027 0.03783784 0.04324324 0.1027027  0.08108108 0.13513514\n",
            " 0.06486486 0.07567568 0.08648649 0.05405405 0.03243243 0.01081081\n",
            " 0.02702703 0.04864865 0.01081081 0.01081081]\n",
            "           Energy  ShannonEntropy    MaxValue  MaxIndex  MinValue  MinIndex\n",
            "0    38825.397754        4.576796    9.973791     189.0  9.677275     375.0\n",
            "1    70680.515963        4.536572   91.371940     338.0  3.668466     301.0\n",
            "2   136371.515093        4.122369   88.221441      57.0  3.337948     184.0\n",
            "3   161342.521612        3.989211  109.446975     128.0  3.757926      94.0\n",
            "4   156749.685519        4.074197  137.828835     192.0  3.798703     160.0\n",
            "5   165124.626119        4.055019  111.950211     376.0  3.710919      37.0\n",
            "6   141759.061064        4.029447   87.789681     321.0  3.720366      56.0\n",
            "7   163157.154537        4.036215   97.326597     378.0  3.604315       4.0\n",
            "8   160387.086520        4.019754  145.152143     206.0  3.819535      58.0\n",
            "9   176882.785109        3.912868  123.000840      36.0  3.879249       3.0\n",
            "10  134680.495691        4.021767  108.419613     334.0  4.001636     178.0\n",
            "11  167311.872256        4.064576  141.715731      56.0  3.605557     372.0\n",
            "12  140810.442116        4.072077  113.097531     361.0  3.411775     209.0\n",
            "13  142939.060655        4.181300   99.815162      80.0  3.240017     164.0\n",
            "14  164263.948438        4.104557  112.403846     272.0  3.758749     357.0\n",
            "15  138650.946371        4.144336  107.152358     340.0  3.440523     302.0\n",
            "16  156606.916211        4.151856  140.890852      59.0  3.657789     257.0\n",
            "17  166710.288316        4.051857  134.638692      14.0  3.273234     213.0\n",
            "18  143359.097040        3.927078  114.002777     327.0  3.826983     290.0\n",
            "19  126861.261038        4.178213   99.984722     289.0  3.722874     251.0\n",
            "20  156047.999781        4.085682  120.149749       9.0  3.123344     214.0\n",
            "21  124761.100959        4.205974   94.780004     211.0  3.875759     296.0\n",
            "22  129141.091096        4.152151   91.995103     171.0  3.576808      12.0\n",
            "23  156754.756926        4.060011  110.478330     130.0  4.015809      92.0\n",
            "24  148352.205119        4.081817  111.181839     317.0  3.640963     325.0\n",
            "25  163462.926118        4.127385  131.192964     156.0  3.949095     362.0\n",
            "26  134631.567428        4.151295  104.449192     231.0  3.997824     198.0\n",
            "27  132211.799081        4.106793   88.176063      68.0  4.116353      30.0\n",
            "28  165581.022462        4.110272  121.570604     372.0  3.668345     106.0\n",
            "29  160145.301369        4.019550  141.959139     323.0  3.919204     285.0\n",
            "30  168449.336366        4.100531  132.134396     274.0  3.989218       2.0\n",
            "31  132270.654409        4.159520  105.278841     110.0  3.146905       0.0\n",
            "32  152170.550765        4.090067  112.905341     289.0  4.224292      24.0\n",
            "33  170938.632333        4.081553  127.555933       6.0  3.764935     205.0\n",
            "34  129435.599865        4.048221  103.411042      78.0  3.781623     278.0\n",
            "35  158975.796433        4.143735   97.219314     390.0  3.074988     353.0\n",
            "36  125441.032652        4.146951  100.624592     233.0  3.493695     192.0\n",
            "37  133129.767526        4.159160   93.070455     325.0  2.944500     163.0\n",
            "38  116367.720289        4.172390   79.037891     288.0  3.407816     378.0\n",
            "39  153408.417291        4.210855  129.630403     134.0  3.412550      95.0\n",
            "40  125423.513014        4.188069  108.564229     333.0  2.699544     300.0\n",
            "41  141243.545496        4.067390  118.440726     174.0  3.742840     262.0\n",
            "42  190262.023760        3.999102  156.445537     360.0  3.927353     253.0\n",
            "43  147235.459478        4.150561  110.070370     299.0  4.013994     377.0\n",
            "44  183778.168780        3.950077  134.455418     245.0  3.256236     323.0\n",
            "45  136976.317030        4.162571   99.647273     193.0  4.028356     158.0\n",
            "46  154639.733225        4.171077   97.587734      30.0  2.007876      38.0\n",
            "47  141251.761840        4.088028  125.379761     101.0  3.794066     181.0\n",
            "48  135745.316568        4.057068   91.636276      53.0  3.907142      21.0\n",
            "49  149593.356184        4.037084  112.701666     243.0  4.187254     322.0\n",
            "50  142551.123413        4.107266  118.668483     315.0  3.663022     394.0\n",
            "51  162704.283108        4.000838  127.496998     387.0  4.260318     112.0\n",
            "52  129159.425733        4.204313  100.134584     345.0  3.616333     312.0\n",
            "53   55069.706078        4.964431   48.952997      67.0  3.283054      31.0\n",
            "54   39000.176356        4.683904   10.054956     240.0  9.714462     257.0\n",
            "55   17995.925668        4.026430    9.930806      42.0  9.788558     160.0\n"
          ]
        }
      ]
    },
    {
      "cell_type": "markdown",
      "source": [
        "# **Q7**\n",
        "Write this matrix into a .csv file. Make sure that you have a header for the feature\n",
        "names."
      ],
      "metadata": {
        "id": "pwxqnTm7V_7y"
      }
    },
    {
      "cell_type": "code",
      "source": [
        "feature_df.to_csv('feature_matrix_DensityTrue.csv', index=True)"
      ],
      "metadata": {
        "id": "giLXPuEJV_fq"
      },
      "execution_count": null,
      "outputs": []
    },
    {
      "cell_type": "code",
      "source": [
        "feature_df_density_false.to_csv(\"feature_matrix_DensityFalse.csv\", index=True)"
      ],
      "metadata": {
        "id": "SXWbOvvGWj3x"
      },
      "execution_count": null,
      "outputs": []
    },
    {
      "cell_type": "markdown",
      "source": [
        "# **Q8**\n",
        "For the IMU chest acceleration Z, filter the signal between 0.5 – 40 Hz. Plot the\n",
        "spectrum (frequency domain representation) and try to locate the dominant\n",
        "frequencies for the resultant signal."
      ],
      "metadata": {
        "id": "27jcfJuGW9Gm"
      }
    }
  ]
}