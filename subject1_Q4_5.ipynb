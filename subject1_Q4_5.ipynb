{
  "nbformat": 4,
  "nbformat_minor": 0,
  "metadata": {
    "colab": {
      "provenance": [],
      "authorship_tag": "ABX9TyOvs53cKE6pBE0LUmJCJ8ub",
      "include_colab_link": true
    },
    "kernelspec": {
      "name": "python3",
      "display_name": "Python 3"
    },
    "language_info": {
      "name": "python"
    }
  },
  "cells": [
    {
      "cell_type": "markdown",
      "metadata": {
        "id": "view-in-github",
        "colab_type": "text"
      },
      "source": [
        "<a href=\"https://colab.research.google.com/github/greeanday/newrepo/blob/master/subject1_Q4_5.ipynb\" target=\"_parent\"><img src=\"https://colab.research.google.com/assets/colab-badge.svg\" alt=\"Open In Colab\"/></a>"
      ]
    },
    {
      "cell_type": "markdown",
      "source": [
        "# Q4.\n",
        "Calculate the energy, Shannon entropy, maximum (amplitude and location),\n",
        "minimum (amplitude and location) for this magnitude signal."
      ],
      "metadata": {
        "id": "l8rR1sybzVle"
      }
    },
    {
      "cell_type": "code",
      "source": [
        "import pandas as pd\n",
        "import numpy as np\n",
        "import matplotlib.pyplot as plt\n",
        "\n",
        "dataFrame=pd.read_csv(\"subject101.dat\",sep=\" \",header=None)\n",
        "dataFrame.shape[1]\n",
        "\n",
        "dataFrame.columns=[\"timestamp\",\"activityID\",\"heart_rate\"]+[f'col_{i}' for i in range(4,55)]\n",
        "\n",
        "dataFrame[\"col_40\"]=pd.to_numeric(dataFrame[\"col_40\"], errors=\"coerce\")\n",
        "dataFrame[\"col_41\"]=pd.to_numeric(dataFrame[\"col_41\"], errors=\"coerce\")\n",
        "dataFrame[\"col_42\"]=pd.to_numeric(dataFrame[\"col_42\"], errors=\"coerce\")\n",
        "\n",
        "walking=dataFrame[dataFrame[\"activityID\"]==4]\n",
        "xyz = walking[[\"timestamp\",\"col_40\", \"col_41\", \"col_42\"]].dropna()\n",
        "\n",
        "magnitude = np.sqrt(xyz[\"col_40\"]**2 + xyz[\"col_41\"]**2 + xyz[\"col_42\"]**2)\n",
        "print(magnitude)\n",
        "print(xyz.iloc[1][\"timestamp\"])\n"
      ],
      "metadata": {
        "colab": {
          "base_uri": "https://localhost:8080/"
        },
        "collapsed": true,
        "id": "ZHe5IqJjzZnl",
        "outputId": "2628d7e6-784c-48f3-c44b-75a1bf6ef6b0"
      },
      "execution_count": null,
      "outputs": [
        {
          "output_type": "stream",
          "name": "stdout",
          "text": [
            "223759    9.835221\n",
            "223760    9.869890\n",
            "223761    9.883564\n",
            "223762    9.829694\n",
            "223763    9.834589\n",
            "            ...   \n",
            "246007    9.861381\n",
            "246008    9.837874\n",
            "246009    9.833071\n",
            "246010    9.877807\n",
            "246011    9.863739\n",
            "Length: 22185, dtype: float64\n",
            "2245.98\n"
          ]
        }
      ]
    },
    {
      "cell_type": "code",
      "source": [
        "max_value = np.max(magnitude)\n",
        "print(max_value)\n",
        "max_index = np.argmax(magnitude)\n",
        "print(max_index)\n",
        "max_value_time= xyz.iloc[max_index][\"timestamp\"]\n",
        "print(max_value_time)\n",
        "\n",
        "print(xyz.iloc[max_index])\n",
        "\n",
        "print(f\"Maximum Amplitude: {max_value} \\nMax Amplitude Location Index: {max_index} \\nMax Amplitude Time (second): {max_value_time} \")\n"
      ],
      "metadata": {
        "colab": {
          "base_uri": "https://localhost:8080/"
        },
        "collapsed": true,
        "id": "1PU_kxUW0dTX",
        "outputId": "fb5cd228-663e-4e57-fa87-7fc2a9fca63c"
      },
      "execution_count": null,
      "outputs": [
        {
          "output_type": "stream",
          "name": "stdout",
          "text": [
            "156.44553695855308\n",
            "17160\n",
            "2418.13\n",
            "timestamp    2418.1300\n",
            "col_40       -155.3560\n",
            "col_41         -9.6815\n",
            "col_42         15.6840\n",
            "Name: 240975, dtype: float64\n",
            "Maximum Amplitude: 156.44553695855308 \n",
            "Max Amplitude Location Index: 17160 \n",
            "Max Amplitude Time (second): 2418.13 \n"
          ]
        }
      ]
    },
    {
      "cell_type": "code",
      "source": [
        "min_value=np.min(magnitude)\n",
        "print(min_value)\n",
        "min_index=np.argmin(magnitude)\n",
        "print(min_index)\n",
        "min_value_time=xyz.iloc[min_index][\"timestamp\"]\n",
        "print(min_value_time)\n",
        "print(xyz.iloc[min_index])\n",
        "\n",
        "print(f\"Minimum Amplitude: {min_value} \\nMin Amplitude Location Index: {min_index} \\nMin Amplitude Time (second): {min_value_time} \")"
      ],
      "metadata": {
        "colab": {
          "base_uri": "https://localhost:8080/"
        },
        "id": "jtLjP0rH2tn0",
        "outputId": "3c5262f7-80d3-4ec8-e990-774c5a757cb7"
      },
      "execution_count": null,
      "outputs": [
        {
          "output_type": "stream",
          "name": "stdout",
          "text": [
            "2.0078757240636285\n",
            "18438\n",
            "2430.94\n",
            "timestamp    2430.940000\n",
            "col_40         -0.039880\n",
            "col_41         -0.615606\n",
            "col_42          1.910760\n",
            "Name: 242256, dtype: float64\n",
            "Minimum Amplitude: 2.0078757240636285 \n",
            "Min Amplitude Location Index: 18438 \n",
            "Min Amplitude Time (second): 2430.94 \n"
          ]
        }
      ]
    },
    {
      "cell_type": "code",
      "source": [
        "print(magnitude)\n",
        "print(magnitude.shape)\n",
        "print(magnitude.iloc[2])"
      ],
      "metadata": {
        "colab": {
          "base_uri": "https://localhost:8080/",
          "height": 173
        },
        "id": "_jcxNzgh58s2",
        "outputId": "4066fd70-97b3-4d9e-d8e3-03d8b5de165a",
        "collapsed": true
      },
      "execution_count": null,
      "outputs": [
        {
          "output_type": "error",
          "ename": "NameError",
          "evalue": "name 'magnitude' is not defined",
          "traceback": [
            "\u001b[0;31m---------------------------------------------------------------------------\u001b[0m",
            "\u001b[0;31mNameError\u001b[0m                                 Traceback (most recent call last)",
            "\u001b[0;32m<ipython-input-1-9bbd8d1a4878>\u001b[0m in \u001b[0;36m<cell line: 0>\u001b[0;34m()\u001b[0m\n\u001b[0;32m----> 1\u001b[0;31m \u001b[0mprint\u001b[0m\u001b[0;34m(\u001b[0m\u001b[0mmagnitude\u001b[0m\u001b[0;34m)\u001b[0m\u001b[0;34m\u001b[0m\u001b[0;34m\u001b[0m\u001b[0m\n\u001b[0m\u001b[1;32m      2\u001b[0m \u001b[0mprint\u001b[0m\u001b[0;34m(\u001b[0m\u001b[0mmagnitude\u001b[0m\u001b[0;34m.\u001b[0m\u001b[0mshape\u001b[0m\u001b[0;34m)\u001b[0m\u001b[0;34m\u001b[0m\u001b[0;34m\u001b[0m\u001b[0m\n\u001b[1;32m      3\u001b[0m \u001b[0mprint\u001b[0m\u001b[0;34m(\u001b[0m\u001b[0mmagnitude\u001b[0m\u001b[0;34m.\u001b[0m\u001b[0miloc\u001b[0m\u001b[0;34m[\u001b[0m\u001b[0;36m2\u001b[0m\u001b[0;34m]\u001b[0m\u001b[0;34m)\u001b[0m\u001b[0;34m\u001b[0m\u001b[0;34m\u001b[0m\u001b[0m\n",
            "\u001b[0;31mNameError\u001b[0m: name 'magnitude' is not defined"
          ]
        }
      ]
    },
    {
      "cell_type": "code",
      "source": [
        "energy=0\n",
        "for i in range(len(magnitude)):\n",
        "  energy+=magnitude.iloc[i]**2\n",
        "\n",
        "print(f\"energy: {energy}\")\n",
        "\n",
        "#YA DA DİREK HESAPLAMAK İÇİN:\n",
        "\n",
        "energy_altarnatif_hesaplama=np.sum(magnitude**2)\n",
        "print(energy_altarnatif_hesaplama)\n",
        "\n",
        "print(f\"energy: {energy_altarnatif_hesaplama}\")"
      ],
      "metadata": {
        "colab": {
          "base_uri": "https://localhost:8080/"
        },
        "id": "8xgxfJdW4v2Y",
        "outputId": "747a62e0-d9b4-4e78-ff88-2efe2d8c791c"
      },
      "execution_count": null,
      "outputs": [
        {
          "output_type": "stream",
          "name": "stdout",
          "text": [
            "energy: 7817781.791419155\n",
            "7817781.791419092\n",
            "energy: 7817781.791419092\n"
          ]
        }
      ]
    },
    {
      "cell_type": "code",
      "source": [
        "print(len(magnitude))"
      ],
      "metadata": {
        "colab": {
          "base_uri": "https://localhost:8080/"
        },
        "id": "NqOXpvtcFZCS",
        "outputId": "84470b0c-86d6-4973-9c8b-b683dfaac6de"
      },
      "execution_count": null,
      "outputs": [
        {
          "output_type": "stream",
          "name": "stdout",
          "text": [
            "22185\n"
          ]
        }
      ]
    },
    {
      "cell_type": "markdown",
      "source": [
        "# **SHANNON ENTROPY HESAPLLAMA**\n",
        "ÖNCE Freedman–Diaconis bin sayısı hesaplayacağım. Bu istatiksel olarak daha anlamlı ve doğru entropy sonucu almanı sağlıyor. bin sayısı demek veri setimi toplam kaça böldüğüm demek oluyor. veri setini veri sayısına göre değil de örneğin 100 parçaya bölüp bu 100 parçanın ağırlıklı olasılık hesaplaması üzerinden entropi hesabu yapıyoruz. eğer veri sayısına göre yapsak çok yüksek entropi çıkabilirmiş. ama doğru olan da o gibi de geliyor? diyelim 2 grubum var biri kontrol, bu durumda ikisinin de veri uzunluğuaynıysa ortak bir rakamda da yapabiliriz sanırım doğru olması içn ? veya eğer ikisinin data uzunlukları farklı ise ikisi için ayrı ayrı Freedman–Diaconis bin sayısı heaapalyıp farklı bin sayılaır ile mi yapmak daha doğru olur, yoksa aynı bin sayısı mı olmalı? ya farklı bin sayıları olursa daha yanlış olursa?\n",
        "\n"
      ],
      "metadata": {
        "id": "XXinkpNzG-m-"
      }
    },
    {
      "cell_type": "code",
      "source": [
        "import numpy as np\n",
        "from scipy.stats import entropy, iqr\n",
        "#IQR (interquartile Range) hesaplama\n",
        "data_iqr=iqr(magnitude)\n",
        "\n",
        "#bin genişliği hesapla\n",
        "bin_width=data_iqr/(len(magnitude)**(1/3))\n",
        "\n",
        "#bin sayısını hesapla\n",
        "bin_count=int(np.ceil((magnitude.max()- magnitude.min()) / bin_width))\n",
        "\n",
        "#histogram hesapla\n",
        "counts, _ =np.histogram(magnitude, bins=bin_count, density=True)\n",
        "\n",
        "#olasılıklar ve entropi hesapla\n",
        "probabilities= counts/np.sum(counts)\n",
        "H=entropy(probabilities, base=2)\n",
        "\n",
        "\n",
        "print(f\"Freedman–Diaconis bin sayısı: {bin_count}\")\n",
        "print(f\"Shannon Entropi: {H:.4f} bit\")"
      ],
      "metadata": {
        "colab": {
          "base_uri": "https://localhost:8080/"
        },
        "id": "bX5jP6mpIH4b",
        "outputId": "077a4970-11bb-4027-e123-eb295cb39eae"
      },
      "execution_count": null,
      "outputs": [
        {
          "output_type": "stream",
          "name": "stdout",
          "text": [
            "Freedman–Diaconis bin sayısı: 442\n",
            "Shannon Entropi: 5.9984 bit\n"
          ]
        }
      ]
    },
    {
      "cell_type": "code",
      "source": [
        "#veya direk her bir değere göre baksın istersem, ve binler ayırmazsam bu şekilde olur (bu direk orjinal probabilities'i gösterir data setindeki herbir nnktayı kullanır ancak floatlar için değil de daha integer ilerleyen heart rate gibi data seti 1, 23, .. gibi tam sayılardan oluşan gruplarda ve her bi rsayının tek kez temsil edilme ihtimali olmayan sayılarda daha manyıklı. yoksa- aksi taktirde float vs olan bir grupta- binlere ayır ki ağırlıklı ortalamaya göre bakabil entropiye):\n",
        "sayim = magnitude.value_counts()\n",
        "print(sayim)\n",
        "probability_denemesi=sayim/sayim.sum()\n",
        "H=entropy(probability_denemesi, base=2)\n",
        "print(f\"Shannon Entropi: {H:.4f} bit\")"
      ],
      "metadata": {
        "colab": {
          "base_uri": "https://localhost:8080/"
        },
        "id": "odAX0wgGO3-e",
        "outputId": "e0d4800f-454d-499e-fb2a-8fae1deee89c",
        "collapsed": true
      },
      "execution_count": null,
      "outputs": [
        {
          "output_type": "stream",
          "name": "stdout",
          "text": [
            "9.863739    1\n",
            "9.835221    1\n",
            "9.869890    1\n",
            "9.883564    1\n",
            "9.829694    1\n",
            "           ..\n",
            "9.820361    1\n",
            "9.859151    1\n",
            "9.884593    1\n",
            "9.879593    1\n",
            "9.860458    1\n",
            "Name: count, Length: 22185, dtype: int64\n",
            "Shannon Entropi: 14.4373 bit\n"
          ]
        }
      ]
    },
    {
      "cell_type": "markdown",
      "source": [
        "# **Q5**\n",
        "Divide this magnitude signal into 4-second long segments. Store the segments\n",
        "as a matrix where each row corresponds to one window."
      ],
      "metadata": {
        "id": "xnoubD1frDNA"
      }
    },
    {
      "cell_type": "code",
      "source": [
        "import pandas as pd\n",
        "import numpy as np\n",
        "import matplotlib.pyplot as plt\n",
        "\n",
        "dataFrame=pd.read_csv(\"subject101.dat\",sep=\" \",header=None)\n",
        "\n",
        "dataFrame.shape[1]\n",
        "\n",
        "dataFrame.columns=[\"timestamp\",\"activityID\",\"heart_rate\"]+[f'col_{i}' for i in range(4,55)]\n",
        "\n",
        "dataFrame[\"col_40\"]=pd.to_numeric(dataFrame[\"col_40\"], errors=\"coerce\")\n",
        "dataFrame[\"col_41\"]=pd.to_numeric(dataFrame[\"col_41\"], errors=\"coerce\")\n",
        "dataFrame[\"col_42\"]=pd.to_numeric(dataFrame[\"col_42\"], errors=\"coerce\")\n",
        "\n",
        "walking=dataFrame[dataFrame[\"activityID\"]==4]\n",
        "xyz = walking[[\"timestamp\",\"col_40\", \"col_41\", \"col_42\"]].dropna()\n",
        "\n",
        "magnitude = np.sqrt(xyz[\"col_40\"]**2 + xyz[\"col_41\"]**2 + xyz[\"col_42\"]**2)\n",
        "\n"
      ],
      "metadata": {
        "collapsed": true,
        "id": "Ay0QkQp8rH8_"
      },
      "execution_count": null,
      "outputs": []
    },
    {
      "cell_type": "markdown",
      "source": [
        "önce bir dataframe tasarlayıp sonr onu np.array ile matrixe çevireceğim. Burada önemli olan şeylerden biri, magnitude verisinin uzunluğu 4 ün tam katı değil, son satırda 3 tane NaN kalıyor. son satırı elle en son giriyorum. önce for  döngümde kullanacağım indexleri hesaplamalıım. 4'e bölecek şekilde yapacağım için son satur hariç [0,4,8, ...] şeklinde gidecek bir index listesi oluşturuyorum. sonra for döngümde aslında yeni df'imin her bir satırına magnitude'un 4 er berisinimekliyorum. Sonra en son satırı elle ekliyorum. son satırın eksik 3 column'unu Nan OLARAK (np.nan) giriyorum. ***DİKKAT:*** np.mean(matrix) gibi işlemler NaN döner\n",
        "Bunun yerine np.nanmean(matrix) gibi fonksiyonlar kullan (İLERİSİ İÇİN) en sonda da len(magnitude) değerimnin dörde bölününceki tamsayı kısmını görüyorum. bunun virgül sonraki kısmı aslında 0.25 yani 4/0.25=1 yani son satıra sadece 1 rakam kalıyor magnitude verisinden demek. o yüzden tam sayı kısmı+1 (rakam,nNAN,NAN,NAN satırı) ile benim yeni matrisimin büyüklüğü uyuşuyor mu diye bakıyorum (matrix.shape) ve aynı olması ben doğruluyıor."
      ],
      "metadata": {
        "id": "vTnjNkEqXg3X"
      }
    },
    {
      "cell_type": "code",
      "source": [
        "matrix_4sec_in_a_row=pd.DataFrame(columns=['v1', 'v2', 'v3', 'v4'])\n",
        "index_base=list(range(int((len(magnitude)-1)/4)))\n",
        "index=[x*4 for x in index_base]\n",
        "\n",
        "a=0\n",
        "for i in index:\n",
        "  matrix_4sec_in_a_row.loc[a]=[magnitude.iloc[i], magnitude.iloc[i+1], magnitude.iloc[i+2], magnitude.iloc[i+3]]\n",
        "  a+=1\n",
        "\n",
        "matrix_4sec_in_a_row.loc[a]=[magnitude.iloc[-1],np.nan,np.nan,np.nan]\n",
        "\n",
        "matrix=matrix_4sec_in_a_row.to_numpy()\n",
        "print(matrix.shape)\n",
        "print(matrix)\n",
        "\n",
        "len(magnitude)/4"
      ],
      "metadata": {
        "colab": {
          "base_uri": "https://localhost:8080/"
        },
        "id": "SoQJ7KaZzLRI",
        "outputId": "cc100c94-88a3-40e5-f3d2-8fa6486ee441"
      },
      "execution_count": null,
      "outputs": [
        {
          "output_type": "stream",
          "name": "stdout",
          "text": [
            "(5547, 4)\n",
            "[[9.8352214  9.86989005 9.88356388 9.82969423]\n",
            " [9.83458903 9.86897603 9.8483943  9.84258651]\n",
            " [9.84794184 9.86045832 9.87959316 9.88459272]\n",
            " ...\n",
            " [9.83152792 9.84374188 9.87652808 9.88445494]\n",
            " [9.86138098 9.83787401 9.83307142 9.87780693]\n",
            " [9.86373938        nan        nan        nan]]\n"
          ]
        },
        {
          "output_type": "execute_result",
          "data": {
            "text/plain": [
              "5546.25"
            ]
          },
          "metadata": {},
          "execution_count": 41
        }
      ]
    },
    {
      "cell_type": "code",
      "source": [
        "print(dataFrame.iloc[len(magnitude)])"
      ],
      "metadata": {
        "colab": {
          "base_uri": "https://localhost:8080/"
        },
        "collapsed": true,
        "id": "Nnr7mES-sSBu",
        "outputId": "14170bb6-08f1-4ed7-d391-acc0716be06b"
      },
      "execution_count": null,
      "outputs": [
        {
          "output_type": "stream",
          "name": "stdout",
          "text": [
            "timestamp     230.230000\n",
            "activityID      1.000000\n",
            "heart_rate           NaN\n",
            "col_4          31.625000\n",
            "col_5           7.289220\n",
            "col_6           1.264300\n",
            "col_7           6.302990\n",
            "col_8           7.286820\n",
            "col_9           1.269170\n",
            "col_10          6.627870\n",
            "col_11         -0.033948\n",
            "col_12          0.017288\n",
            "col_13         -0.030565\n",
            "col_14         -3.193610\n",
            "col_15         23.865300\n",
            "col_16        -54.838800\n",
            "col_17          1.000000\n",
            "col_18          0.000000\n",
            "col_19          0.000000\n",
            "col_20          0.000000\n",
            "col_21         33.375000\n",
            "col_22          0.544619\n",
            "col_23         -0.065057\n",
            "col_24          9.616450\n",
            "col_25          0.360040\n",
            "col_26         -0.056062\n",
            "col_27          9.831310\n",
            "col_28         -0.012943\n",
            "col_29          0.006072\n",
            "col_30          0.004826\n",
            "col_31         46.561800\n",
            "col_32         12.700100\n",
            "col_33        -45.528800\n",
            "col_34          1.000000\n",
            "col_35          0.000000\n",
            "col_36          0.000000\n",
            "col_37          0.000000\n",
            "col_38         32.000000\n",
            "col_39          0.182681\n",
            "col_40         -7.271270\n",
            "col_41         -7.262610\n",
            "col_42         -0.028216\n",
            "col_43         -7.298880\n",
            "col_44         -6.687880\n",
            "col_45          0.039335\n",
            "col_46          0.021080\n",
            "col_47         -0.022902\n",
            "col_48        -18.997500\n",
            "col_49         44.426200\n",
            "col_50         -1.775180\n",
            "col_51          1.000000\n",
            "col_52          0.000000\n",
            "col_53          0.000000\n",
            "col_54          0.000000\n",
            "Name: 22185, dtype: float64\n"
          ]
        }
      ]
    },
    {
      "cell_type": "markdown",
      "source": [
        "# **2.yol**\n",
        "Şimdid e df değil de direk liste olarak raw ları oluşturup onu raw datasına çevirmeyi göstercem"
      ],
      "metadata": {
        "id": "-IEhdiZXabui"
      }
    },
    {
      "cell_type": "code",
      "source": [
        "rows = []\n",
        "for i in index:\n",
        "    rows.append([magnitude.iloc[i], magnitude.iloc[i+1], magnitude.iloc[i+2], magnitude.iloc[i+3]])\n",
        "rows.append([magnitude.iloc[-1], np.nan, np.nan, np.nan])\n",
        "matrix_ikinci_yol=np.array(rows)\n",
        "print(matrix_ikinci_yol)\n",
        "print(matrix_ikinci_yol.shape)\n",
        "print(type(matrix_ikinci_yol))\n",
        "\n"
      ],
      "metadata": {
        "colab": {
          "base_uri": "https://localhost:8080/"
        },
        "id": "yr_sW5KuabL8",
        "outputId": "884629f5-faa4-478b-aaa9-8969d2d93d4d"
      },
      "execution_count": null,
      "outputs": [
        {
          "output_type": "stream",
          "name": "stdout",
          "text": [
            "[[9.8352214  9.86989005 9.88356388 9.82969423]\n",
            " [9.83458903 9.86897603 9.8483943  9.84258651]\n",
            " [9.84794184 9.86045832 9.87959316 9.88459272]\n",
            " ...\n",
            " [9.83152792 9.84374188 9.87652808 9.88445494]\n",
            " [9.86138098 9.83787401 9.83307142 9.87780693]\n",
            " [9.86373938        nan        nan        nan]]\n",
            "(5547, 4)\n",
            "<class 'numpy.ndarray'>\n"
          ]
        }
      ]
    },
    {
      "cell_type": "markdown",
      "source": [
        "# **3. yol**\n"
      ],
      "metadata": {
        "id": "k3C0ogtbcnDN"
      }
    },
    {
      "cell_type": "code",
      "source": [
        "import numpy as np\n",
        "\n",
        "rows = []\n",
        "for i in range(0, len(magnitude), 4):\n",
        "    block = [magnitude.iloc[i + j] if i + j < len(magnitude) else np.nan for j in range(4)]\n",
        "    rows.append(block)\n",
        "\n",
        "matrix_üçüncü_yol = np.array(rows)\n",
        "print(matrix_üçüncü_yol)\n",
        "print(matrix_üçüncü_yol.shape)"
      ],
      "metadata": {
        "colab": {
          "base_uri": "https://localhost:8080/"
        },
        "id": "F4m0WyK6cqfD",
        "outputId": "79fa22dc-6ab0-4577-d4d6-15082b023284"
      },
      "execution_count": null,
      "outputs": [
        {
          "output_type": "stream",
          "name": "stdout",
          "text": [
            "[[9.8352214  9.86989005 9.88356388 9.82969423]\n",
            " [9.83458903 9.86897603 9.8483943  9.84258651]\n",
            " [9.84794184 9.86045832 9.87959316 9.88459272]\n",
            " ...\n",
            " [9.83152792 9.84374188 9.87652808 9.88445494]\n",
            " [9.86138098 9.83787401 9.83307142 9.87780693]\n",
            " [9.86373938        nan        nan        nan]]\n",
            "(5547, 4)\n"
          ]
        }
      ]
    },
    {
      "cell_type": "markdown",
      "source": [
        "# **BİR ANLAM KARIŞIKLIĞI OLMUŞ. **\n",
        "SAMPLE HZ0100 OLDUĞIU İÇİN HER BİR İNDEXTE 0.01 SN GEÇİYOR. AMA HOCA 4 SN İSTEMİŞ --> 400 SAMPLE ALMAM GEREK. DOĞRUSU"
      ],
      "metadata": {
        "id": "Q2kwWo3IhK9Q"
      }
    },
    {
      "cell_type": "code",
      "source": [
        "rows = []\n",
        "sampling_rate = 100  # Hz\n",
        "segment_length = 4 * sampling_rate  # 4 saniye = 400 örnek\n",
        "\n",
        "for i in range(0, len(magnitude), segment_length):\n",
        "    segment = magnitude.iloc[i:i+segment_length].values  # .iloc kullandık\n",
        "    if len(segment) < segment_length:\n",
        "        segment = np.pad(segment, (0, segment_length - len(segment)), constant_values=np.nan)\n",
        "    rows.append(segment)\n",
        "\n",
        "matrix_4sec_segments = np.array(rows)"
      ],
      "metadata": {
        "id": "gXHIjSuhhbDs"
      },
      "execution_count": null,
      "outputs": []
    },
    {
      "cell_type": "code",
      "source": [
        "print(matrix_4sec_segments)\n",
        "print(type(matrix_4sec_segments))\n",
        "print(matrix_4sec_segments.shape)"
      ],
      "metadata": {
        "colab": {
          "base_uri": "https://localhost:8080/"
        },
        "collapsed": true,
        "id": "luNB_J6BhwW9",
        "outputId": "ce31f0df-1ffd-4c73-ed06-3c86936022a6"
      },
      "execution_count": null,
      "outputs": [
        {
          "output_type": "stream",
          "name": "stdout",
          "text": [
            "[[ 9.8352214   9.86989005  9.88356388 ...  9.85272037  9.83379003\n",
            "   9.82022517]\n",
            " [ 9.90059972  9.88599863  9.8789265  ... 15.3508687  15.34657712\n",
            "  16.98942897]\n",
            " [19.60082743 19.73993113 21.07213153 ... 31.99705386 30.11996972\n",
            "  26.1542025 ]\n",
            " ...\n",
            " [11.24691497 11.69079851 12.15887657 ...  9.74594703  9.76381555\n",
            "   9.73711618]\n",
            " [ 9.89155688  9.88812266  9.86349498 ...  9.87990752  9.86461121\n",
            "   9.85364909]\n",
            " [ 9.86270113  9.80651563  9.8746304  ...         nan         nan\n",
            "          nan]]\n",
            "<class 'numpy.ndarray'>\n",
            "(56, 400)\n"
          ]
        }
      ]
    },
    {
      "cell_type": "markdown",
      "source": [
        "# **İLK YAPTIĞIM YOLUMLA-DOĞRU 4SEC. PENCERELİ MATRİX**"
      ],
      "metadata": {
        "id": "Cj06XNUtiQ8r"
      }
    },
    {
      "cell_type": "code",
      "source": [
        "matrix_4sec_new=pd.DataFrame(columns=[f'v{i+1}' for i in range(400)])\n",
        "index_base=list(range(int((len(magnitude)-1)/400+1)))\n",
        "index=[x*400 for x in index_base]\n",
        "\n",
        "a=0\n",
        "for i in index:\n",
        "\n",
        "  if i + 400 <= len(magnitude):\n",
        "    segment = magnitude.iloc[i:i+400].tolist()\n",
        "  else:\n",
        "    segment = magnitude.iloc[i:].tolist()\n",
        "    segment += [np.nan] * (400 - len(segment))\n",
        "\n",
        "  matrix_4sec_new.loc[a] = segment\n",
        "  a += 1\n",
        "matrix=matrix_4sec_new.to_numpy()\n",
        "print(matrix.shape)\n",
        "print(matrix)\n",
        "\n",
        "\n",
        "\n",
        "\n",
        "\n",
        "len(magnitude)/400"
      ],
      "metadata": {
        "colab": {
          "base_uri": "https://localhost:8080/"
        },
        "id": "CKAiyf_ciVMB",
        "outputId": "104c3fa5-7a16-44ea-d558-d09fa03ca520",
        "collapsed": true
      },
      "execution_count": null,
      "outputs": [
        {
          "output_type": "stream",
          "name": "stdout",
          "text": [
            "(56, 400)\n",
            "[[ 9.8352214   9.86989005  9.88356388 ...  9.85272037  9.83379003\n",
            "   9.82022517]\n",
            " [ 9.90059972  9.88599863  9.8789265  ... 15.3508687  15.34657712\n",
            "  16.98942897]\n",
            " [19.60082743 19.73993113 21.07213153 ... 31.99705386 30.11996972\n",
            "  26.1542025 ]\n",
            " ...\n",
            " [11.24691497 11.69079851 12.15887657 ...  9.74594703  9.76381555\n",
            "   9.73711618]\n",
            " [ 9.89155688  9.88812266  9.86349498 ...  9.87990752  9.86461121\n",
            "   9.85364909]\n",
            " [ 9.86270113  9.80651563  9.8746304  ...         nan         nan\n",
            "          nan]]\n"
          ]
        },
        {
          "output_type": "execute_result",
          "data": {
            "text/plain": [
              "55.4625"
            ]
          },
          "metadata": {},
          "execution_count": 55
        }
      ]
    }
  ]
}