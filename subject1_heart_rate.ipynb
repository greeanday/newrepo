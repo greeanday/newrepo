{
  "nbformat": 4,
  "nbformat_minor": 0,
  "metadata": {
    "colab": {
      "provenance": [],
      "authorship_tag": "ABX9TyMrtV5numm+g5d36uZcX3a5",
      "include_colab_link": true
    },
    "kernelspec": {
      "name": "python3",
      "display_name": "Python 3"
    },
    "language_info": {
      "name": "python"
    }
  },
  "cells": [
    {
      "cell_type": "markdown",
      "metadata": {
        "id": "view-in-github",
        "colab_type": "text"
      },
      "source": [
        "<a href=\"https://colab.research.google.com/github/greeanday/newrepo/blob/master/subject1_heart_rate.ipynb\" target=\"_parent\"><img src=\"https://colab.research.google.com/assets/colab-badge.svg\" alt=\"Open In Colab\"/></a>"
      ]
    },
    {
      "cell_type": "code",
      "execution_count": 1,
      "metadata": {
        "id": "q7hREqdj1VHH"
      },
      "outputs": [],
      "source": [
        "import pandas as pd"
      ]
    },
    {
      "cell_type": "code",
      "source": [
        "dataFrame=pd.read_csv(\"subject101.dat\",sep=\" \",header=None)"
      ],
      "metadata": {
        "id": "Zp2IiclI3cgH"
      },
      "execution_count": 2,
      "outputs": []
    },
    {
      "cell_type": "code",
      "source": [
        "dataFrame.shape[1]"
      ],
      "metadata": {
        "colab": {
          "base_uri": "https://localhost:8080/"
        },
        "id": "g_cQFLqg5Yno",
        "outputId": "2f5729f5-34e0-443c-ecab-fffd1ac1d069"
      },
      "execution_count": 4,
      "outputs": [
        {
          "output_type": "execute_result",
          "data": {
            "text/plain": [
              "54"
            ]
          },
          "metadata": {},
          "execution_count": 4
        }
      ]
    },
    {
      "cell_type": "code",
      "source": [
        "dataFrame.columns=[\"timestamp\",\"activityID\",\"heart_rate\"]+[f'col_{i}' for i in range(4,55)]"
      ],
      "metadata": {
        "id": "MmuqW3Lr1xmw"
      },
      "execution_count": 5,
      "outputs": []
    },
    {
      "cell_type": "code",
      "source": [
        "dataFrame[\"heart_rate\"]=pd.to_numeric(dataFrame[\"heart_rate\"], errors=\"coerce\")"
      ],
      "metadata": {
        "id": "8KNA1kfoCyxD"
      },
      "execution_count": 7,
      "outputs": []
    },
    {
      "cell_type": "code",
      "source": [
        "standing=dataFrame[dataFrame[\"activityID\"]==3][\"heart_rate\"].dropna()\n",
        "running=dataFrame[dataFrame[\"activityID\"]==5][\"heart_rate\"].dropna()\n",
        "jumping=dataFrame[dataFrame[\"activityID\"]==24][\"heart_rate\"].dropna()"
      ],
      "metadata": {
        "id": "fUstEv9XN6O0"
      },
      "execution_count": 27,
      "outputs": []
    },
    {
      "cell_type": "code",
      "source": [
        "print(\"Standing heart rate avarage:\", standing.mean())\n",
        "print(\"Running heart rate avarage:\", running.mean())\n",
        "print(\"Rope jumping heart rate avarage:\", jumping.mean())"
      ],
      "metadata": {
        "colab": {
          "base_uri": "https://localhost:8080/"
        },
        "id": "nZQzKVbMOGRo",
        "outputId": "6389dd65-eef4-4929-997a-d3f6eabca348"
      },
      "execution_count": 28,
      "outputs": [
        {
          "output_type": "stream",
          "name": "stdout",
          "text": [
            "Standing heart rate avarage: 103.42590725806451\n",
            "Running heart rate avarage: 161.338485316847\n",
            "Rope jumping heart rate avarage: 165.9949152542373\n"
          ]
        }
      ]
    }
  ]
}